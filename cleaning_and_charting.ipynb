{
 "cells": [
  {
   "cell_type": "code",
   "execution_count": 1,
   "id": "67304850",
   "metadata": {
    "scrolled": true,
    "tags": []
   },
   "outputs": [
    {
     "name": "stdout",
     "output_type": "stream",
     "text": [
      "Requirement already satisfied: pandas-profiling==3.6.2 in /opt/anaconda3/envs/capstone/lib/python3.8/site-packages (3.6.2)\n",
      "Requirement already satisfied: scipy<1.10,>=1.4.1 in /opt/anaconda3/envs/capstone/lib/python3.8/site-packages (from pandas-profiling==3.6.2) (1.9.3)\n",
      "Requirement already satisfied: pandas!=1.4.0,<1.6,>1.1 in /opt/anaconda3/envs/capstone/lib/python3.8/site-packages (from pandas-profiling==3.6.2) (1.2.3)\n",
      "Requirement already satisfied: matplotlib<3.7,>=3.2 in /opt/anaconda3/envs/capstone/lib/python3.8/site-packages (from pandas-profiling==3.6.2) (3.6.3)\n",
      "Requirement already satisfied: pydantic<1.11,>=1.8.1 in /opt/anaconda3/envs/capstone/lib/python3.8/site-packages (from pandas-profiling==3.6.2) (1.10.15)\n",
      "Requirement already satisfied: PyYAML<6.1,>=5.0.0 in /opt/anaconda3/envs/capstone/lib/python3.8/site-packages (from pandas-profiling==3.6.2) (6.0.1)\n",
      "Requirement already satisfied: jinja2<3.2,>=2.11.1 in /opt/anaconda3/envs/capstone/lib/python3.8/site-packages (from pandas-profiling==3.6.2) (3.1.3)\n",
      "Requirement already satisfied: visions==0.7.5 in /opt/anaconda3/envs/capstone/lib/python3.8/site-packages (from visions[type_image_path]==0.7.5->pandas-profiling==3.6.2) (0.7.5)\n",
      "Requirement already satisfied: numpy<1.24,>=1.16.0 in /opt/anaconda3/envs/capstone/lib/python3.8/site-packages (from pandas-profiling==3.6.2) (1.23.5)\n",
      "Requirement already satisfied: htmlmin==0.1.12 in /opt/anaconda3/envs/capstone/lib/python3.8/site-packages (from pandas-profiling==3.6.2) (0.1.12)\n",
      "Requirement already satisfied: phik<0.13,>=0.11.1 in /opt/anaconda3/envs/capstone/lib/python3.8/site-packages (from pandas-profiling==3.6.2) (0.12.4)\n",
      "Requirement already satisfied: requests<2.29,>=2.24.0 in /opt/anaconda3/envs/capstone/lib/python3.8/site-packages (from pandas-profiling==3.6.2) (2.28.2)\n",
      "Requirement already satisfied: tqdm<4.65,>=4.48.2 in /opt/anaconda3/envs/capstone/lib/python3.8/site-packages (from pandas-profiling==3.6.2) (4.64.1)\n",
      "Requirement already satisfied: seaborn<0.13,>=0.10.1 in /opt/anaconda3/envs/capstone/lib/python3.8/site-packages (from pandas-profiling==3.6.2) (0.12.2)\n",
      "Requirement already satisfied: multimethod<1.10,>=1.4 in /opt/anaconda3/envs/capstone/lib/python3.8/site-packages (from pandas-profiling==3.6.2) (1.9.1)\n",
      "Requirement already satisfied: statsmodels<0.14,>=0.13.2 in /opt/anaconda3/envs/capstone/lib/python3.8/site-packages (from pandas-profiling==3.6.2) (0.13.5)\n",
      "Requirement already satisfied: typeguard<2.14,>=2.13.2 in /opt/anaconda3/envs/capstone/lib/python3.8/site-packages (from pandas-profiling==3.6.2) (2.13.3)\n",
      "Requirement already satisfied: attrs>=19.3.0 in /opt/anaconda3/envs/capstone/lib/python3.8/site-packages (from visions==0.7.5->visions[type_image_path]==0.7.5->pandas-profiling==3.6.2) (23.2.0)\n",
      "Requirement already satisfied: networkx>=2.4 in /opt/anaconda3/envs/capstone/lib/python3.8/site-packages (from visions==0.7.5->visions[type_image_path]==0.7.5->pandas-profiling==3.6.2) (3.1)\n",
      "Requirement already satisfied: tangled-up-in-unicode>=0.0.4 in /opt/anaconda3/envs/capstone/lib/python3.8/site-packages (from visions==0.7.5->visions[type_image_path]==0.7.5->pandas-profiling==3.6.2) (0.2.0)\n",
      "\u001b[33mWARNING: visions 0.7.5 does not provide the extra 'type-image-path'\u001b[0m\u001b[33m\n",
      "\u001b[0mRequirement already satisfied: imagehash in /opt/anaconda3/envs/capstone/lib/python3.8/site-packages (from visions[type_image_path]==0.7.5->pandas-profiling==3.6.2) (4.3.1)\n",
      "Requirement already satisfied: Pillow in /opt/anaconda3/envs/capstone/lib/python3.8/site-packages (from visions[type_image_path]==0.7.5->pandas-profiling==3.6.2) (10.3.0)\n",
      "Requirement already satisfied: MarkupSafe>=2.0 in /opt/anaconda3/envs/capstone/lib/python3.8/site-packages (from jinja2<3.2,>=2.11.1->pandas-profiling==3.6.2) (2.1.5)\n",
      "Requirement already satisfied: contourpy>=1.0.1 in /opt/anaconda3/envs/capstone/lib/python3.8/site-packages (from matplotlib<3.7,>=3.2->pandas-profiling==3.6.2) (1.1.1)\n",
      "Requirement already satisfied: cycler>=0.10 in /opt/anaconda3/envs/capstone/lib/python3.8/site-packages (from matplotlib<3.7,>=3.2->pandas-profiling==3.6.2) (0.12.1)\n",
      "Requirement already satisfied: fonttools>=4.22.0 in /opt/anaconda3/envs/capstone/lib/python3.8/site-packages (from matplotlib<3.7,>=3.2->pandas-profiling==3.6.2) (4.50.0)\n",
      "Requirement already satisfied: kiwisolver>=1.0.1 in /opt/anaconda3/envs/capstone/lib/python3.8/site-packages (from matplotlib<3.7,>=3.2->pandas-profiling==3.6.2) (1.4.5)\n",
      "Requirement already satisfied: packaging>=20.0 in /opt/anaconda3/envs/capstone/lib/python3.8/site-packages (from matplotlib<3.7,>=3.2->pandas-profiling==3.6.2) (24.0)\n",
      "Requirement already satisfied: pyparsing>=2.2.1 in /opt/anaconda3/envs/capstone/lib/python3.8/site-packages (from matplotlib<3.7,>=3.2->pandas-profiling==3.6.2) (3.1.2)\n",
      "Requirement already satisfied: python-dateutil>=2.7 in /opt/anaconda3/envs/capstone/lib/python3.8/site-packages (from matplotlib<3.7,>=3.2->pandas-profiling==3.6.2) (2.9.0)\n",
      "Requirement already satisfied: pytz>=2017.3 in /opt/anaconda3/envs/capstone/lib/python3.8/site-packages (from pandas!=1.4.0,<1.6,>1.1->pandas-profiling==3.6.2) (2024.1)\n",
      "Requirement already satisfied: joblib>=0.14.1 in /opt/anaconda3/envs/capstone/lib/python3.8/site-packages (from phik<0.13,>=0.11.1->pandas-profiling==3.6.2) (1.3.2)\n",
      "Requirement already satisfied: typing-extensions>=4.2.0 in /opt/anaconda3/envs/capstone/lib/python3.8/site-packages (from pydantic<1.11,>=1.8.1->pandas-profiling==3.6.2) (4.10.0)\n",
      "Requirement already satisfied: charset-normalizer<4,>=2 in /opt/anaconda3/envs/capstone/lib/python3.8/site-packages (from requests<2.29,>=2.24.0->pandas-profiling==3.6.2) (3.3.2)\n",
      "Requirement already satisfied: idna<4,>=2.5 in /opt/anaconda3/envs/capstone/lib/python3.8/site-packages (from requests<2.29,>=2.24.0->pandas-profiling==3.6.2) (3.6)\n",
      "Requirement already satisfied: urllib3<1.27,>=1.21.1 in /opt/anaconda3/envs/capstone/lib/python3.8/site-packages (from requests<2.29,>=2.24.0->pandas-profiling==3.6.2) (1.26.18)\n",
      "Requirement already satisfied: certifi>=2017.4.17 in /opt/anaconda3/envs/capstone/lib/python3.8/site-packages (from requests<2.29,>=2.24.0->pandas-profiling==3.6.2) (2024.2.2)\n",
      "Requirement already satisfied: patsy>=0.5.2 in /opt/anaconda3/envs/capstone/lib/python3.8/site-packages (from statsmodels<0.14,>=0.13.2->pandas-profiling==3.6.2) (0.5.6)\n",
      "Requirement already satisfied: six in /opt/anaconda3/envs/capstone/lib/python3.8/site-packages (from patsy>=0.5.2->statsmodels<0.14,>=0.13.2->pandas-profiling==3.6.2) (1.16.0)\n",
      "Requirement already satisfied: PyWavelets in /opt/anaconda3/envs/capstone/lib/python3.8/site-packages (from imagehash->visions[type_image_path]==0.7.5->pandas-profiling==3.6.2) (1.4.1)\n",
      "Requirement already satisfied: pandas==1.2.3 in /opt/anaconda3/envs/capstone/lib/python3.8/site-packages (1.2.3)\n",
      "Requirement already satisfied: python-dateutil>=2.7.3 in /opt/anaconda3/envs/capstone/lib/python3.8/site-packages (from pandas==1.2.3) (2.9.0)\n",
      "Requirement already satisfied: pytz>=2017.3 in /opt/anaconda3/envs/capstone/lib/python3.8/site-packages (from pandas==1.2.3) (2024.1)\n",
      "Requirement already satisfied: numpy>=1.16.5 in /opt/anaconda3/envs/capstone/lib/python3.8/site-packages (from pandas==1.2.3) (1.23.5)\n",
      "Requirement already satisfied: six>=1.5 in /opt/anaconda3/envs/capstone/lib/python3.8/site-packages (from python-dateutil>=2.7.3->pandas==1.2.3) (1.16.0)\n",
      "Requirement already satisfied: matplotlib in /opt/anaconda3/envs/capstone/lib/python3.8/site-packages (3.6.3)\n",
      "Requirement already satisfied: contourpy>=1.0.1 in /opt/anaconda3/envs/capstone/lib/python3.8/site-packages (from matplotlib) (1.1.1)\n",
      "Requirement already satisfied: cycler>=0.10 in /opt/anaconda3/envs/capstone/lib/python3.8/site-packages (from matplotlib) (0.12.1)\n",
      "Requirement already satisfied: fonttools>=4.22.0 in /opt/anaconda3/envs/capstone/lib/python3.8/site-packages (from matplotlib) (4.50.0)\n",
      "Requirement already satisfied: kiwisolver>=1.0.1 in /opt/anaconda3/envs/capstone/lib/python3.8/site-packages (from matplotlib) (1.4.5)\n",
      "Requirement already satisfied: numpy>=1.19 in /opt/anaconda3/envs/capstone/lib/python3.8/site-packages (from matplotlib) (1.23.5)\n",
      "Requirement already satisfied: packaging>=20.0 in /opt/anaconda3/envs/capstone/lib/python3.8/site-packages (from matplotlib) (24.0)\n",
      "Requirement already satisfied: pillow>=6.2.0 in /opt/anaconda3/envs/capstone/lib/python3.8/site-packages (from matplotlib) (10.3.0)\n",
      "Requirement already satisfied: pyparsing>=2.2.1 in /opt/anaconda3/envs/capstone/lib/python3.8/site-packages (from matplotlib) (3.1.2)\n",
      "Requirement already satisfied: python-dateutil>=2.7 in /opt/anaconda3/envs/capstone/lib/python3.8/site-packages (from matplotlib) (2.9.0)\n",
      "Requirement already satisfied: six>=1.5 in /opt/anaconda3/envs/capstone/lib/python3.8/site-packages (from python-dateutil>=2.7->matplotlib) (1.16.0)\n"
     ]
    }
   ],
   "source": [
    "!pip install pandas-profiling==3.6.2\n",
    "!pip install pandas==1.2.3\n",
    "!pip install matplotlib"
   ]
  },
  {
   "cell_type": "markdown",
   "id": "cbd82c74",
   "metadata": {},
   "source": [
    "1. Import and read the csv file and turn it into a dataframe. "
   ]
  },
  {
   "cell_type": "code",
   "execution_count": 2,
   "id": "5256f28a",
   "metadata": {},
   "outputs": [],
   "source": [
    "import pandas as pd\n",
    "import matplotlib.pyplot as plt\n",
    "import seaborn as sns\n",
    "import numpy as np"
   ]
  },
  {
   "cell_type": "code",
   "execution_count": 3,
   "id": "3a2b347d-5d6d-4ed8-b665-b8c7cac8f79a",
   "metadata": {},
   "outputs": [],
   "source": [
    "df = pd.read_csv('Dataset3.csv')"
   ]
  },
  {
   "cell_type": "markdown",
   "id": "ebcca1a3",
   "metadata": {},
   "source": [
    "2. Explore the data in df"
   ]
  },
  {
   "cell_type": "code",
   "execution_count": 4,
   "id": "758fda61",
   "metadata": {},
   "outputs": [
    {
     "name": "stdout",
     "output_type": "stream",
     "text": [
      "<class 'pandas.core.frame.DataFrame'>\n",
      "RangeIndex: 222 entries, 0 to 221\n",
      "Data columns (total 4 columns):\n",
      " #   Column     Non-Null Count  Dtype \n",
      "---  ------     --------------  ----- \n",
      " 0   ID         222 non-null    int64 \n",
      " 1   Title      222 non-null    object\n",
      " 2   Salary     222 non-null    int64 \n",
      " 3   Education  222 non-null    object\n",
      "dtypes: int64(2), object(2)\n",
      "memory usage: 7.1+ KB\n"
     ]
    }
   ],
   "source": [
    "df.info()"
   ]
  },
  {
   "cell_type": "code",
   "execution_count": 5,
   "id": "f6452c54",
   "metadata": {
    "scrolled": true
   },
   "outputs": [
    {
     "data": {
      "text/html": [
       "<div>\n",
       "<style scoped>\n",
       "    .dataframe tbody tr th:only-of-type {\n",
       "        vertical-align: middle;\n",
       "    }\n",
       "\n",
       "    .dataframe tbody tr th {\n",
       "        vertical-align: top;\n",
       "    }\n",
       "\n",
       "    .dataframe thead th {\n",
       "        text-align: right;\n",
       "    }\n",
       "</style>\n",
       "<table border=\"1\" class=\"dataframe\">\n",
       "  <thead>\n",
       "    <tr style=\"text-align: right;\">\n",
       "      <th></th>\n",
       "      <th>ID</th>\n",
       "      <th>Salary</th>\n",
       "    </tr>\n",
       "  </thead>\n",
       "  <tbody>\n",
       "    <tr>\n",
       "      <th>count</th>\n",
       "      <td>2.220000e+02</td>\n",
       "      <td>222.000000</td>\n",
       "    </tr>\n",
       "    <tr>\n",
       "      <th>mean</th>\n",
       "      <td>5.154113e+08</td>\n",
       "      <td>104760.468468</td>\n",
       "    </tr>\n",
       "    <tr>\n",
       "      <th>std</th>\n",
       "      <td>2.874049e+08</td>\n",
       "      <td>46406.757013</td>\n",
       "    </tr>\n",
       "    <tr>\n",
       "      <th>min</th>\n",
       "      <td>1.146487e+07</td>\n",
       "      <td>58622.000000</td>\n",
       "    </tr>\n",
       "    <tr>\n",
       "      <th>25%</th>\n",
       "      <td>2.652474e+08</td>\n",
       "      <td>72904.500000</td>\n",
       "    </tr>\n",
       "    <tr>\n",
       "      <th>50%</th>\n",
       "      <td>5.172096e+08</td>\n",
       "      <td>88735.500000</td>\n",
       "    </tr>\n",
       "    <tr>\n",
       "      <th>75%</th>\n",
       "      <td>7.723461e+08</td>\n",
       "      <td>120116.250000</td>\n",
       "    </tr>\n",
       "    <tr>\n",
       "      <th>max</th>\n",
       "      <td>9.999280e+08</td>\n",
       "      <td>397480.000000</td>\n",
       "    </tr>\n",
       "  </tbody>\n",
       "</table>\n",
       "</div>"
      ],
      "text/plain": [
       "                 ID         Salary\n",
       "count  2.220000e+02     222.000000\n",
       "mean   5.154113e+08  104760.468468\n",
       "std    2.874049e+08   46406.757013\n",
       "min    1.146487e+07   58622.000000\n",
       "25%    2.652474e+08   72904.500000\n",
       "50%    5.172096e+08   88735.500000\n",
       "75%    7.723461e+08  120116.250000\n",
       "max    9.999280e+08  397480.000000"
      ]
     },
     "execution_count": 5,
     "metadata": {},
     "output_type": "execute_result"
    }
   ],
   "source": [
    "df.describe()"
   ]
  },
  {
   "cell_type": "markdown",
   "id": "21cadef3-4aa3-498c-b743-40c834ccdad8",
   "metadata": {},
   "source": [
    "I need to drop the ID number columns and add a column to replace that column due to privacy "
   ]
  },
  {
   "cell_type": "code",
   "execution_count": 6,
   "id": "2a3280b2-7196-4304-bde5-5cd37318d16c",
   "metadata": {
    "scrolled": true
   },
   "outputs": [],
   "source": [
    "df['ID_replacement'] = np.arange(1, len(df) + 1)"
   ]
  },
  {
   "cell_type": "code",
   "execution_count": 7,
   "id": "e0e32b8b-6561-4c08-a423-d6ccde971caa",
   "metadata": {},
   "outputs": [],
   "source": [
    "df = df.drop(columns=['ID'])"
   ]
  },
  {
   "cell_type": "code",
   "execution_count": 8,
   "id": "dc8c67a8",
   "metadata": {
    "scrolled": true
   },
   "outputs": [
    {
     "data": {
      "text/html": [
       "<div>\n",
       "<style scoped>\n",
       "    .dataframe tbody tr th:only-of-type {\n",
       "        vertical-align: middle;\n",
       "    }\n",
       "\n",
       "    .dataframe tbody tr th {\n",
       "        vertical-align: top;\n",
       "    }\n",
       "\n",
       "    .dataframe thead th {\n",
       "        text-align: right;\n",
       "    }\n",
       "</style>\n",
       "<table border=\"1\" class=\"dataframe\">\n",
       "  <thead>\n",
       "    <tr style=\"text-align: right;\">\n",
       "      <th></th>\n",
       "      <th>Title</th>\n",
       "      <th>Salary</th>\n",
       "      <th>Education</th>\n",
       "      <th>ID_replacement</th>\n",
       "    </tr>\n",
       "  </thead>\n",
       "  <tbody>\n",
       "    <tr>\n",
       "      <th>0</th>\n",
       "      <td>Business Intelligence Analyst</td>\n",
       "      <td>81718</td>\n",
       "      <td>B</td>\n",
       "      <td>1</td>\n",
       "    </tr>\n",
       "    <tr>\n",
       "      <th>1</th>\n",
       "      <td>Business Intelligence Analyst</td>\n",
       "      <td>59179</td>\n",
       "      <td>B</td>\n",
       "      <td>2</td>\n",
       "    </tr>\n",
       "    <tr>\n",
       "      <th>2</th>\n",
       "      <td>Business Intelligence Developer</td>\n",
       "      <td>109032</td>\n",
       "      <td>B</td>\n",
       "      <td>3</td>\n",
       "    </tr>\n",
       "    <tr>\n",
       "      <th>3</th>\n",
       "      <td>Business Intelligence Developer</td>\n",
       "      <td>101337</td>\n",
       "      <td>B</td>\n",
       "      <td>4</td>\n",
       "    </tr>\n",
       "    <tr>\n",
       "      <th>4</th>\n",
       "      <td>Business Intelligence Developer</td>\n",
       "      <td>109743</td>\n",
       "      <td>B</td>\n",
       "      <td>5</td>\n",
       "    </tr>\n",
       "  </tbody>\n",
       "</table>\n",
       "</div>"
      ],
      "text/plain": [
       "                             Title  Salary Education  ID_replacement\n",
       "0    Business Intelligence Analyst   81718         B               1\n",
       "1    Business Intelligence Analyst   59179         B               2\n",
       "2  Business Intelligence Developer  109032         B               3\n",
       "3  Business Intelligence Developer  101337         B               4\n",
       "4  Business Intelligence Developer  109743         B               5"
      ]
     },
     "execution_count": 8,
     "metadata": {},
     "output_type": "execute_result"
    }
   ],
   "source": [
    "df.head()"
   ]
  },
  {
   "cell_type": "code",
   "execution_count": 9,
   "id": "22adec76-f4ec-488f-9baa-410a7efb4439",
   "metadata": {},
   "outputs": [
    {
     "data": {
      "text/plain": [
       "58622"
      ]
     },
     "execution_count": 9,
     "metadata": {},
     "output_type": "execute_result"
    }
   ],
   "source": [
    "df['Salary'].min()"
   ]
  },
  {
   "cell_type": "code",
   "execution_count": 10,
   "id": "69e45ddf-7655-4a09-9d7c-8dc00bbbfd03",
   "metadata": {
    "scrolled": true
   },
   "outputs": [
    {
     "data": {
      "text/plain": [
       "397480"
      ]
     },
     "execution_count": 10,
     "metadata": {},
     "output_type": "execute_result"
    }
   ],
   "source": [
    "df['Salary'].max()"
   ]
  },
  {
   "cell_type": "code",
   "execution_count": 11,
   "id": "9b08fdc8-f67d-46a5-8c79-4ba41e53ed28",
   "metadata": {},
   "outputs": [
    {
     "data": {
      "text/plain": [
       "EHR Application Analyst      42\n",
       "Tech Analyst                 17\n",
       "Systems Engineer             11\n",
       "Service Desk Analyst         10\n",
       "EPIC Principal Trainer        9\n",
       "                             ..\n",
       "Mgr Service Desk              1\n",
       "Database Administrator        1\n",
       "Dir IT EPIC Solutions         1\n",
       "Mgr System Administration     1\n",
       "IT Security Architect         1\n",
       "Name: Title, Length: 75, dtype: int64"
      ]
     },
     "execution_count": 11,
     "metadata": {},
     "output_type": "execute_result"
    }
   ],
   "source": [
    "df['Title'].value_counts()"
   ]
  },
  {
   "cell_type": "markdown",
   "id": "b7b3834b",
   "metadata": {},
   "source": [
    "3. Cleaning and shaping the dataset\n",
    "\n",
    "> After looking at the dataset we see that for education, it is put into the first letter of their education status. H is highschool, B is for bacholers, and M is for masters. If a high school degree is 12 years, then a bacholers takes an average of 16 years to compleate and a masters is 18 total years of school. I will be creating a new column and putting in their number years of school for analysis. When it comes to their title, there is a range of titles given and there are 75 different titles. I will add a column later that is a grouping of the tites that show the diffrernt levels of position. For now I will check for NaNs and nulls, but this data looks clean so I doubt that there will be only be a few if any. "
   ]
  },
  {
   "cell_type": "code",
   "execution_count": 12,
   "id": "9bbd812b-d062-4f2c-9af2-501b1a3ca128",
   "metadata": {},
   "outputs": [
    {
     "name": "stdout",
     "output_type": "stream",
     "text": [
      "Number of NaN values: 0\n"
     ]
    }
   ],
   "source": [
    "# Check for NaN values\n",
    "nan_count = df.isna().sum().sum()\n",
    "print('Number of NaN values:', nan_count)"
   ]
  },
  {
   "cell_type": "code",
   "execution_count": 13,
   "id": "7762067d-d678-4c77-8c10-4f71e532cef4",
   "metadata": {},
   "outputs": [
    {
     "name": "stdout",
     "output_type": "stream",
     "text": [
      "Number of null values: 0\n"
     ]
    }
   ],
   "source": [
    "# Check for null values\n",
    "null_count = df.isnull().sum().sum()\n",
    "print('Number of null values:', null_count)"
   ]
  },
  {
   "cell_type": "markdown",
   "id": "1c6d63ae",
   "metadata": {},
   "source": [
    "4. Adding the columns"
   ]
  },
  {
   "cell_type": "code",
   "execution_count": 14,
   "id": "3d8e3d84",
   "metadata": {},
   "outputs": [],
   "source": [
    "#adding the education_years column\n",
    "df['Education_Years'] = df['Education'].map({'H': 12, 'B': 16, 'M': 18})"
   ]
  },
  {
   "cell_type": "code",
   "execution_count": 15,
   "id": "fac4128f-ec24-400b-a861-6589bfd45d54",
   "metadata": {
    "scrolled": true
   },
   "outputs": [
    {
     "data": {
      "text/html": [
       "<div>\n",
       "<style scoped>\n",
       "    .dataframe tbody tr th:only-of-type {\n",
       "        vertical-align: middle;\n",
       "    }\n",
       "\n",
       "    .dataframe tbody tr th {\n",
       "        vertical-align: top;\n",
       "    }\n",
       "\n",
       "    .dataframe thead th {\n",
       "        text-align: right;\n",
       "    }\n",
       "</style>\n",
       "<table border=\"1\" class=\"dataframe\">\n",
       "  <thead>\n",
       "    <tr style=\"text-align: right;\">\n",
       "      <th></th>\n",
       "      <th>Title</th>\n",
       "      <th>Salary</th>\n",
       "      <th>Education</th>\n",
       "      <th>ID_replacement</th>\n",
       "      <th>Education_Years</th>\n",
       "    </tr>\n",
       "  </thead>\n",
       "  <tbody>\n",
       "    <tr>\n",
       "      <th>0</th>\n",
       "      <td>Business Intelligence Analyst</td>\n",
       "      <td>81718</td>\n",
       "      <td>B</td>\n",
       "      <td>1</td>\n",
       "      <td>16</td>\n",
       "    </tr>\n",
       "    <tr>\n",
       "      <th>1</th>\n",
       "      <td>Business Intelligence Analyst</td>\n",
       "      <td>59179</td>\n",
       "      <td>B</td>\n",
       "      <td>2</td>\n",
       "      <td>16</td>\n",
       "    </tr>\n",
       "    <tr>\n",
       "      <th>2</th>\n",
       "      <td>Business Intelligence Developer</td>\n",
       "      <td>109032</td>\n",
       "      <td>B</td>\n",
       "      <td>3</td>\n",
       "      <td>16</td>\n",
       "    </tr>\n",
       "    <tr>\n",
       "      <th>3</th>\n",
       "      <td>Business Intelligence Developer</td>\n",
       "      <td>101337</td>\n",
       "      <td>B</td>\n",
       "      <td>4</td>\n",
       "      <td>16</td>\n",
       "    </tr>\n",
       "    <tr>\n",
       "      <th>4</th>\n",
       "      <td>Business Intelligence Developer</td>\n",
       "      <td>109743</td>\n",
       "      <td>B</td>\n",
       "      <td>5</td>\n",
       "      <td>16</td>\n",
       "    </tr>\n",
       "  </tbody>\n",
       "</table>\n",
       "</div>"
      ],
      "text/plain": [
       "                             Title  Salary Education  ID_replacement  \\\n",
       "0    Business Intelligence Analyst   81718         B               1   \n",
       "1    Business Intelligence Analyst   59179         B               2   \n",
       "2  Business Intelligence Developer  109032         B               3   \n",
       "3  Business Intelligence Developer  101337         B               4   \n",
       "4  Business Intelligence Developer  109743         B               5   \n",
       "\n",
       "   Education_Years  \n",
       "0               16  \n",
       "1               16  \n",
       "2               16  \n",
       "3               16  \n",
       "4               16  "
      ]
     },
     "execution_count": 15,
     "metadata": {},
     "output_type": "execute_result"
    }
   ],
   "source": [
    "df.head()"
   ]
  },
  {
   "cell_type": "code",
   "execution_count": 16,
   "id": "f5624cc2-1fdd-4655-b1dd-7baed57581b0",
   "metadata": {},
   "outputs": [],
   "source": [
    "# add the column that groups together the different titles to their most basic jobs\n",
    "df['Title_Grouped'] = ''"
   ]
  },
  {
   "cell_type": "code",
   "execution_count": 17,
   "id": "a4d0bc7c-c405-4c6a-8f3d-de85dde57e4e",
   "metadata": {},
   "outputs": [],
   "source": [
    "for i, row in df.iterrows():\n",
    "    title = row['Title']\n",
    "    if 'Analyst' in title:\n",
    "        df.at[i, 'Title_Grouped'] = 'Analyst'\n",
    "    elif 'Developer' in title:\n",
    "        df.at[i, 'Title_Grouped'] = 'Developer'\n",
    "    elif 'Dir' in title:\n",
    "        df.at[i, 'Title_Grouped'] = 'Director'\n",
    "    elif 'Trainer' in title:\n",
    "        df.at[i, 'Title_Grouped'] = 'Trainer'\n",
    "    elif 'Mgr' in title:\n",
    "        df.at[i, 'Title_Grouped'] = 'Mgr'\n",
    "    elif 'Manager' in title:\n",
    "        df.at[i, 'Title_Grouped'] = 'Manager'\n",
    "    elif 'Engineer' in title:\n",
    "        df.at[i, 'Title_Grouped'] = 'Engineer'\n",
    "    elif 'Architect' in title:\n",
    "        df.at[i, 'Title_Grouped'] = 'Architect'\n",
    "        df.at[i, 'Title_Grouped'] = 'Engineer'\n",
    "    elif 'Supv' in title:\n",
    "        df.at[i, 'Title_Grouped'] = 'Supv'\n",
    "    elif 'Administrator' in title:\n",
    "        df.at[i, 'Title_Grouped'] = 'Administrator'\n",
    "    elif 'IT Security' in title:\n",
    "        df.at[i, 'Title_Grouped'] = 'IT Security'\n",
    "    elif 'CI' in title:\n",
    "        df.at[i, 'Title_Grouped'] = 'Upper Managment'\n",
    "    elif 'CTO' in title:\n",
    "        df.at[i, 'Title_Grouped'] = 'Upper Managment'\n",
    "    else:\n",
    "        df.at[i, 'Title_Grouped'] = 'Other'"
   ]
  },
  {
   "cell_type": "code",
   "execution_count": 18,
   "id": "dd464837-4e9c-432f-86c5-c4887e957489",
   "metadata": {},
   "outputs": [
    {
     "data": {
      "text/plain": [
       "Analyst            107\n",
       "Engineer            35\n",
       "Mgr                 24\n",
       "Director            14\n",
       "Trainer             10\n",
       "Other                8\n",
       "Developer            8\n",
       "Manager              5\n",
       "Administrator        4\n",
       "Upper Managment      3\n",
       "Supv                 2\n",
       "IT Security          2\n",
       "Name: Title_Grouped, dtype: int64"
      ]
     },
     "execution_count": 18,
     "metadata": {},
     "output_type": "execute_result"
    }
   ],
   "source": [
    "df['Title_Grouped'].value_counts()"
   ]
  },
  {
   "cell_type": "markdown",
   "id": "98a48d6e-f939-4ecc-8c10-c6b96777306a",
   "metadata": {},
   "source": [
    "There are multiple titles, like CTO and CIO, that should not be grouped together due to their job. For thoes I left their grouping as their job title. "
   ]
  },
  {
   "cell_type": "markdown",
   "id": "fb31439f",
   "metadata": {},
   "source": [
    "5. Check with df.info() that all columns have been added correctly."
   ]
  },
  {
   "cell_type": "code",
   "execution_count": 19,
   "id": "c592d76e",
   "metadata": {},
   "outputs": [
    {
     "name": "stdout",
     "output_type": "stream",
     "text": [
      "<class 'pandas.core.frame.DataFrame'>\n",
      "RangeIndex: 222 entries, 0 to 221\n",
      "Data columns (total 6 columns):\n",
      " #   Column           Non-Null Count  Dtype \n",
      "---  ------           --------------  ----- \n",
      " 0   Title            222 non-null    object\n",
      " 1   Salary           222 non-null    int64 \n",
      " 2   Education        222 non-null    object\n",
      " 3   ID_replacement   222 non-null    int64 \n",
      " 4   Education_Years  222 non-null    int64 \n",
      " 5   Title_Grouped    222 non-null    object\n",
      "dtypes: int64(3), object(3)\n",
      "memory usage: 10.5+ KB\n"
     ]
    }
   ],
   "source": [
    "df.info()"
   ]
  },
  {
   "cell_type": "markdown",
   "id": "55c16764",
   "metadata": {},
   "source": [
    "6. Examine the data by finding percentages"
   ]
  },
  {
   "cell_type": "code",
   "execution_count": 20,
   "id": "61f4c8c4",
   "metadata": {},
   "outputs": [
    {
     "name": "stdout",
     "output_type": "stream",
     "text": [
      "The percentage of data with 'H' in the 'Education' column is: 32.88288288288289%\n"
     ]
    }
   ],
   "source": [
    "education_counts = df['Education'].value_counts()\n",
    "# Calculate the percentage of 'H' values\n",
    "percentage_h = (education_counts['H'] / df.shape[0]) * 100\n",
    "print(f\"The percentage of data with 'H' in the 'Education' column is: {percentage_h}%\")\n"
   ]
  },
  {
   "cell_type": "code",
   "execution_count": 21,
   "id": "7e67375c-304f-44be-8eb4-065b2e29ff66",
   "metadata": {},
   "outputs": [
    {
     "name": "stdout",
     "output_type": "stream",
     "text": [
      "The percentage of data with 'B' in the 'Education' column is: 59.009009009009006%\n"
     ]
    }
   ],
   "source": [
    "percentage_b = (education_counts['B'] / df.shape[0]) * 100\n",
    "print(f\"The percentage of data with 'B' in the 'Education' column is: {percentage_b}%\")"
   ]
  },
  {
   "cell_type": "code",
   "execution_count": 22,
   "id": "394d37cd-c59b-4724-8d86-8a5d4f70c7d5",
   "metadata": {
    "scrolled": true
   },
   "outputs": [
    {
     "name": "stdout",
     "output_type": "stream",
     "text": [
      "The percentage of data with 'M' in the 'Education' column is: 8.108108108108109%\n"
     ]
    }
   ],
   "source": [
    "percentage_m = (education_counts['M'] / df.shape[0]) * 100\n",
    "print(f\"The percentage of data with 'M' in the 'Education' column is: {percentage_m}%\")\n"
   ]
  },
  {
   "cell_type": "code",
   "execution_count": 23,
   "id": "52d50875-1ffa-4703-9c40-427fc939f324",
   "metadata": {
    "scrolled": true
   },
   "outputs": [
    {
     "data": {
      "image/png": "[encoded data removed]",
      "text/plain": [
       "<Figure size 640x480 with 1 Axes>"
      ]
     },
     "metadata": {},
     "output_type": "display_data"
    }
   ],
   "source": [
    "#making a pie chart to directly compair\n",
    "# Data\n",
    "labels = ['High School', 'Bachelors', 'Masters']\n",
    "sizes = [percentage_h, percentage_b, percentage_m]\n",
    "\n",
    "# Create pie chart\n",
    "plt.pie(sizes, labels=labels)\n",
    "\n",
    "# Show the chart\n",
    "plt.show()"
   ]
  },
  {
   "cell_type": "code",
   "execution_count": 24,
   "id": "47297c5e-34d2-4fcd-a7f4-85ba7df711a6",
   "metadata": {
    "scrolled": true
   },
   "outputs": [
    {
     "data": {
      "image/png": "[encoded data removed]",
      "text/plain": [
       "<Figure size 640x480 with 1 Axes>"
      ]
     },
     "metadata": {},
     "output_type": "display_data"
    }
   ],
   "source": [
    "sns.scatterplot(x='Education_Years', y='Salary', data=df, hue='Salary')\n",
    "\n",
    "# Display the plot\n",
    "plt.show()"
   ]
  },
  {
   "cell_type": "code",
   "execution_count": 25,
   "id": "06ae03b7-74e1-429e-b9d3-1575cc7695b3",
   "metadata": {
    "scrolled": true
   },
   "outputs": [
    {
     "data": {
      "text/plain": [
       "[Text(0.5, 0, 'Education Years'),\n",
       " Text(0, 0.5, 'Title Grouped'),\n",
       " Text(0.5, 1.0, 'Education Years vs Title Grouped')]"
      ]
     },
     "execution_count": 25,
     "metadata": {},
     "output_type": "execute_result"
    },
    {
     "data": {
      "image/png": "[encoded data removed]",
      "text/plain": [
       "<Figure size 640x480 with 1 Axes>"
      ]
     },
     "metadata": {},
     "output_type": "display_data"
    }
   ],
   "source": [
    "# create scatterplot\n",
    "ax = sns.scatterplot(x = \"Education_Years\", y = \"Title_Grouped\", data = df, hue = \"Title_Grouped\", legend = False)\n",
    "\n",
    "# set labels and title\n",
    "ax.set(xlabel = \"Education Years\", ylabel = \"Title Grouped\", title = \"Education Years vs Title Grouped\")\n"
   ]
  },
  {
   "cell_type": "code",
   "execution_count": 26,
   "id": "f10bd72a-62e9-42b5-87e3-1903696a4687",
   "metadata": {},
   "outputs": [
    {
     "name": "stdout",
     "output_type": "stream",
     "text": [
      "CIO has the highest salary with a M degree\n"
     ]
    }
   ],
   "source": [
    "max_salary = df['Salary'].max()\n",
    "highest_paid_job = df[df['Salary'] == max_salary]['Title']\n",
    "highest_paid_education = df[df['Salary'] == max_salary]['Education']\n",
    "\n",
    "print(highest_paid_job.values[0], 'has the highest salary with a', highest_paid_education.values[0], 'degree')"
   ]
  },
  {
   "cell_type": "code",
   "execution_count": 27,
   "id": "1ca7e302-f40b-49a9-8954-2604900fa5f5",
   "metadata": {},
   "outputs": [
    {
     "name": "stdout",
     "output_type": "stream",
     "text": [
      "EHR Application Analyst has the lowest salary with a H degree\n"
     ]
    }
   ],
   "source": [
    "min_salary = df['Salary'].min()\n",
    "lowest_paid_job = df[df['Salary'] == min_salary]['Title']\n",
    "lowest_paid_education = df[df['Salary'] == min_salary]['Education']\n",
    "\n",
    "print(lowest_paid_job.values[0], 'has the lowest salary with a', lowest_paid_education.values[0], 'degree')"
   ]
  },
  {
   "cell_type": "code",
   "execution_count": 28,
   "id": "f1ffb579-cd41-4b36-a457-b3e40d7e3e95",
   "metadata": {
    "scrolled": true
   },
   "outputs": [
    {
     "name": "stdout",
     "output_type": "stream",
     "text": [
      "Education\n",
      "B    107844.763359\n",
      "H     79986.835616\n",
      "M    182784.500000\n",
      "Name: Salary, dtype: float64\n"
     ]
    }
   ],
   "source": [
    "# Calculate the average salary for each education type\n",
    "avg_salary_by_education = df.groupby('Education')['Salary'].mean()\n",
    "\n",
    "print(avg_salary_by_education)"
   ]
  },
  {
   "cell_type": "markdown",
   "id": "41ea8d5c-eb3e-4ab4-8565-aefddd5edc2b",
   "metadata": {},
   "source": [
    "To find the correlation bewteen salary and education years, we will use .corr()"
   ]
  },
  {
   "cell_type": "code",
   "execution_count": 29,
   "id": "546b09a7-988f-4dca-8d76-efa275d24b3b",
   "metadata": {},
   "outputs": [
    {
     "data": {
      "text/plain": [
       "0.47359564223538253"
      ]
     },
     "execution_count": 29,
     "metadata": {},
     "output_type": "execute_result"
    }
   ],
   "source": [
    "df['Salary']. corr(df['Education_Years'])"
   ]
  },
  {
   "cell_type": "markdown",
   "id": "499327c7-b2b0-4e7c-8d6e-3b41706b9de1",
   "metadata": {},
   "source": [
    "We can see here that there is a stastistically significant and positive correlatio between salary and education level. "
   ]
  },
  {
   "cell_type": "code",
   "execution_count": null,
   "id": "ccad5b24-1ac6-4d70-802e-98ef2666d6a6",
   "metadata": {},
   "outputs": [],
   "source": []
  }
 ],
 "metadata": {
  "kernelspec": {
   "display_name": "Python 3 (ipykernel)",
   "language": "python",
   "name": "python3"
  },
  "language_info": {
   "codemirror_mode": {
    "name": "ipython",
    "version": 3
   },
   "file_extension": ".py",
   "mimetype": "text/x-python",
   "name": "python",
   "nbconvert_exporter": "python",
   "pygments_lexer": "ipython3",
   "version": "3.8.19"
  }
 },
 "nbformat": 4,
 "nbformat_minor": 5
}
